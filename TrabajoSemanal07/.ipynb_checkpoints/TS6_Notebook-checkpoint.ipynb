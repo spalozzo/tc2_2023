{
 "cells": [
  {
   "cell_type": "markdown",
   "id": "59fa71ab",
   "metadata": {},
   "source": [
    "<img src=\"./img/logo_UTN.svg\" align=\"right\" width=\"300\" />\n",
    "\n",
    "# Trabajo Semanal 5 - Teoría de Circuitos 2\n",
    "### Autor: Santiago Palozzo\n",
    "  \n",
    "## Tarea Semanal en progreso...\n",
    "<img src=\"./img/consigna.png\" align=\"center\" width=\"600\" />"
   ]
  },
  {
   "cell_type": "markdown",
   "id": "e678a0e7",
   "metadata": {},
   "source": [
    "# 1. Desarrollos en papel\n"
   ]
  },
  {
   "cell_type": "code",
   "execution_count": 1,
   "id": "82eddfce",
   "metadata": {},
   "outputs": [
    {
     "data": {
      "text/html": [
       "\n",
       "        <iframe\n",
       "            width=\"800\"\n",
       "            height=\"800\"\n",
       "            src=\"./desarrollo.pdf\"\n",
       "            frameborder=\"0\"\n",
       "            allowfullscreen\n",
       "            \n",
       "        ></iframe>\n",
       "        "
      ],
      "text/plain": [
       "<IPython.lib.display.IFrame at 0x23b01d29b10>"
      ]
     },
     "execution_count": 1,
     "metadata": {},
     "output_type": "execute_result"
    }
   ],
   "source": [
    "from IPython.display import IFrame\n",
    "IFrame(\"./desarrollo.pdf\", width=800, height=800)"
   ]
  },
  {
   "cell_type": "markdown",
   "id": "ed445f1c",
   "metadata": {},
   "source": [
    "# 2. Simulacion numérica en Python\n"
   ]
  },
  {
   "cell_type": "code",
   "execution_count": 1,
   "id": "e181e560",
   "metadata": {},
   "outputs": [],
   "source": [
    "#%% Inicializacion de librerias\n",
    "# Librerías externas NumPy, SciPy y Matplotlib\n",
    "import scipy.signal as sig\n",
    "import matplotlib.pyplot as plt\n",
    "import numpy as np\n",
    "\n",
    "# Librería de TC2\n",
    "import pytc2.sistemas_lineales as tc2\n",
    "\n",
    "#%% Inicializacion de graficos para el Notebook\n",
    "plt.figure(1)\n",
    "plt.close(1)\n",
    "\n",
    "import matplotlib as mpl\n",
    "\n",
    "fig_sz_x = 13\n",
    "fig_sz_y = 7\n",
    "fig_dpi = 80 # dpi\n",
    "fig_font_size = 16\n",
    "\n",
    "mpl.rcParams['figure.figsize'] = (fig_sz_x, fig_sz_y)\n",
    "mpl.rcParams['figure.dpi'] = fig_dpi\n",
    "plt.rcParams.update({'font.size':fig_font_size})\n",
    "#%%  Fin - Inicialización de librerías"
   ]
  },
  {
   "cell_type": "code",
   "execution_count": null,
   "id": "175ac4e9",
   "metadata": {},
   "outputs": [],
   "source": []
  }
 ],
 "metadata": {
  "kernelspec": {
   "display_name": "Python 3 (ipykernel)",
   "language": "python",
   "name": "python3"
  },
  "language_info": {
   "codemirror_mode": {
    "name": "ipython",
    "version": 3
   },
   "file_extension": ".py",
   "mimetype": "text/x-python",
   "name": "python",
   "nbconvert_exporter": "python",
   "pygments_lexer": "ipython3",
   "version": "3.11.3"
  }
 },
 "nbformat": 4,
 "nbformat_minor": 5
}
