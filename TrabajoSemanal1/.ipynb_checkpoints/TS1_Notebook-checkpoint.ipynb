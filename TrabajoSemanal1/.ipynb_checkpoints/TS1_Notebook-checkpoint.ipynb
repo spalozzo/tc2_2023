{
 "cells": [
  {
   "cell_type": "markdown",
   "id": "bde9b891",
   "metadata": {},
   "source": [
    "<img src=\"./img/logo_UTN.svg\" align=\"right\" width=\"300\" />\n",
    "\n",
    "# Trabajo Semanal 1 - Teoría de Circuitos 2\n",
    "### Autor: Santiago Palozzo"
   ]
  },
  {
   "cell_type": "markdown",
   "id": "6a1fe8e5",
   "metadata": {},
   "source": [
    "<img src=\"./img/circuito.png\" align=\"center\" width=\"600\" />"
   ]
  },
  {
   "cell_type": "markdown",
   "id": "c6bfebd1",
   "metadata": {},
   "source": [
    "# 1. Cálculo de la transferencia\n",
    "<img src=\"./img/tf_desarrollo.jpg\" align=\"center\" width=\"400\" />\n",
    "\n",
    "## 1.1 Módulo y fase\n",
    "<img src=\"./img/mod_fase_desarrollo.jpg\" align=\"center\" width=\"500\" />\n",
    "\n",
    "## 1.2 Polos y ceros\n",
    "<img src=\"./img/polos_ceros_desarrollo.jpg\" align=\"center\" width=\"500\" />"
   ]
  },
  {
   "cell_type": "markdown",
   "id": "bff7009e",
   "metadata": {},
   "source": [
    "# 2. Tipo de filtro\n",
    "\n",
    "Este circuito representa dos posibles tipos de filtros, dependiendo de la relacion $\\frac{R_2}{R_1}$.  \n",
    "- **Caso A**: si $\\frac{R_2}{R_1} = 1$ estaremos ante un filtro pasa todo (o rotador de fase).  \n",
    "- **Caso B**: si $R_1 >> R_2$ entonces $\\frac{R_2}{R_1} \\rightarrow 0$ . En este caso, el circuito se comportará como un pasa altos."
   ]
  },
  {
   "cell_type": "markdown",
   "id": "9de5004a",
   "metadata": {},
   "source": [
    "# 3. Función transferencia normalizada\n",
    "<img src=\"./img/tf_normalizada_desarrollo.jpg\" align=\"center\" width=\"500\">  \n",
    "\n",
    "- La norma de frecuencia elegida es $\\Omega_\\omega = \\omega_0 = \\frac{1}{R_3 C}$\n",
    "- Interpretación circuital: ..."
   ]
  },
  {
   "cell_type": "markdown",
   "id": "31020e35",
   "metadata": {},
   "source": [
    "# 4. Simulación en Matlab\n",
    "- Módulo y fase\n",
    "<img src=\"./img/bode_matlab.png\" align=\"center\" width=\"500\" />  \n",
    "\n",
    "- Polos y ceros\n",
    "<img src=\"./img/pzmap_matlab.png\" align=\"center\" width=\"500\" />  \n",
    "\n",
    "  (((*Me faltaria agregar la simulacion del caso pasa altos*)))"
   ]
  },
  {
   "cell_type": "markdown",
   "id": "9692029d",
   "metadata": {},
   "source": [
    "# 5. Simulación en LTSpice\n",
    "\n",
    "<img src=\"./img/simulacion_spice.png\" align=\"left\" width=\"800\" />\n"
   ]
  },
  {
   "cell_type": "markdown",
   "id": "f50ac4df",
   "metadata": {},
   "source": [
    "# 6. Conclusión"
   ]
  }
 ],
 "metadata": {
  "kernelspec": {
   "display_name": "Python 3 (ipykernel)",
   "language": "python",
   "name": "python3"
  },
  "language_info": {
   "codemirror_mode": {
    "name": "ipython",
    "version": 3
   },
   "file_extension": ".py",
   "mimetype": "text/x-python",
   "name": "python",
   "nbconvert_exporter": "python",
   "pygments_lexer": "ipython3",
   "version": "3.10.6"
  }
 },
 "nbformat": 4,
 "nbformat_minor": 5
}
